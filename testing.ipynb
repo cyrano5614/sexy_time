{
 "cells": [
  {
   "cell_type": "code",
   "execution_count": 1,
   "metadata": {
    "collapsed": true
   },
   "outputs": [],
   "source": [
    "# from read_viva import *\n",
    "# # import matplotlib.image as mpimg\n",
    "# # import matplotlib.pyplot as plt"
   ]
  },
  {
   "cell_type": "code",
   "execution_count": 2,
   "metadata": {
    "collapsed": true
   },
   "outputs": [],
   "source": [
    "# img_list, box_list = load_viva('/home/cyrano5614/Downloads/detectiondata/train/')"
   ]
  },
  {
   "cell_type": "code",
   "execution_count": 3,
   "metadata": {
    "collapsed": true
   },
   "outputs": [],
   "source": [
    "# generate = generate_batch(img_list, box_list, (128, 128), 10, negative=True)\n"
   ]
  },
  {
   "cell_type": "code",
   "execution_count": 4,
   "metadata": {
    "collapsed": true,
    "scrolled": false
   },
   "outputs": [],
   "source": [
    "# for i in range(1):\n",
    "#     batch_imgs, batch_labels = next(generate)\n",
    "#     batch_visualize(batch_imgs, batch_labels)"
   ]
  },
  {
   "cell_type": "code",
   "execution_count": 5,
   "metadata": {},
   "outputs": [
    {
     "name": "stderr",
     "output_type": "stream",
     "text": [
      "Using TensorFlow backend.\n"
     ]
    }
   ],
   "source": [
    "from viva.cnn.networks.lenet import LeNet\n",
    "from viva.cnn.networks.xception_transfer import Xception_Transfer\n",
    "from viva.bottleneck.extract_bottleneck_features import extract_bottleneck_Xception, extract_features_labels\n",
    "from read_viva import load_viva, DataGen\n",
    "from keras.optimizers import SGD\n",
    "from keras.utils import np_utils\n",
    "from sklearn.model_selection import train_test_split\n",
    "import numpy as np\n",
    "import argparse\n",
    "import cv2\n",
    "from pipeline import pretrained_model"
   ]
  },
  {
   "cell_type": "code",
   "execution_count": 6,
   "metadata": {},
   "outputs": [],
   "source": [
    "# img_size = (100, 100)\n",
    "# batch_size = 10\n",
    "# path = '/media/whatevs/Machine Learning/detectiondata/'\n",
    "# img_list, box_list = load_viva(path)\n",
    "# # Splitting into 60/20/20\n",
    "# train_imgs, test_imgs, train_boxes, test_boxes = train_test_split(\n",
    "#     img_list, box_list, test_size=0.2)\n",
    "# train_imgs, valid_imgs, train_boxes, valid_boxes = train_test_split(\n",
    "#     train_imgs, train_boxes, test_size=0.25)\n",
    "\n",
    "# # train_gen = \n",
    "# bottleneck_model = pretrained_model('Xception', img_size)\n",
    "\n",
    "# train_generator = generate_batch(train_imgs, train_boxes, img_size=img_size, bottleneck=True, model=bottleneck_model, batch_size=batch_size)\n",
    "# result = next(train_generator)\n",
    "# result[0].shape\n",
    "# print(type(train_generator))\n",
    "# bottleneck_train_convert = extract_features_labels(bottleneck_model, next(train_generator), batch_size=batch_size)\n",
    "# valid_generator = generate_batch(\n",
    "#     valid_imgs, valid_boxes, img_size=img_size, batch_size=batch_size)\n",
    "# test_generator = generate_batch(\n",
    "#     test_imgs, test_boxes, img_size=img_size, batch_size=batch_size)\n",
    "\n",
    "# model_name = 'xception'\n",
    "# bottleneck_features = extract_bottleneck_Xception(train_generator, valid_generator, test_generator,\n",
    "#                                                   img_shape=(img_size[0], img_size[1], 3), batch_size=batch_size)\n",
    "# model = Xception_Transfer.build(bottleneck_features['train']['features'],\n",
    "#                                 bottleneck_features['train']['labels'])\n",
    "# bottleneck_features['train']['features']\n",
    "# bottleneck_train_generator = bottleneck_features\n",
    "# bottleneck_valid_generator = extract_features_labels(model, valid_generator, batch_size=batch_size)\n",
    "# bottleneck_test_generator = extract_features_labels(model, test_generator, batch_size=batch_size)\n",
    "\n"
   ]
  },
  {
   "cell_type": "code",
   "execution_count": null,
   "metadata": {
    "collapsed": true
   },
   "outputs": [],
   "source": []
  },
  {
   "cell_type": "code",
   "execution_count": 7,
   "metadata": {},
   "outputs": [],
   "source": [
    "# x, y, z = bottleneck_model.output.shape[1:]\n",
    "# int(x)\n"
   ]
  },
  {
   "cell_type": "code",
   "execution_count": 8,
   "metadata": {},
   "outputs": [],
   "source": [
    "# len(next(train_generator))"
   ]
  },
  {
   "cell_type": "code",
   "execution_count": 9,
   "metadata": {},
   "outputs": [],
   "source": [
    "# len(np.unique(result[1]))"
   ]
  },
  {
   "cell_type": "code",
   "execution_count": 10,
   "metadata": {},
   "outputs": [
    {
     "name": "stdout",
     "output_type": "stream",
     "text": [
      "[INFO] Preparing the data...\n",
      "[INFO] Loaded 4125 training images\n",
      "[INFO] Loaded 1375 validation images\n",
      "[INFO] Loaded 5500 testing images\n"
     ]
    }
   ],
   "source": [
    "from sliding_window.sliding_window import slide_window, search_windows, heatmap_windows\n",
    "from read_viva import *\n",
    "\n",
    "\"\"\"\n",
    "Data Preprocessing\n",
    "\"\"\"\n",
    "print('[INFO] Preparing the data...')\n",
    "train_img_list, train_box_list, test_img_list, test_box_list = load_viva('/media/whatevs/Machine Learning/detectiondata/')\n",
    "# Splitting into train validation 75/25\n",
    "train_img_list, valid_img_list, train_box_list, valid_box_list = train_test_split(\n",
    "    train_img_list, train_box_list, test_size=0.25)\n",
    "print('[INFO] Loaded {} training images'.format(len(train_img_list)))\n",
    "print('[INFO] Loaded {} validation images'.format(len(valid_img_list)))\n",
    "print('[INFO] Loaded {} testing images'.format(len(test_img_list)))"
   ]
  },
  {
   "cell_type": "code",
   "execution_count": 11,
   "metadata": {},
   "outputs": [
    {
     "name": "stdout",
     "output_type": "stream",
     "text": [
      "_________________________________________________________________\n",
      "Layer (type)                 Output Shape              Param #   \n",
      "=================================================================\n",
      "conv2d_1 (Conv2D)            (None, 128, 128, 20)      1520      \n",
      "_________________________________________________________________\n",
      "activation_1 (Activation)    (None, 128, 128, 20)      0         \n",
      "_________________________________________________________________\n",
      "max_pooling2d_1 (MaxPooling2 (None, 64, 64, 20)        0         \n",
      "_________________________________________________________________\n",
      "conv2d_2 (Conv2D)            (None, 64, 64, 50)        25050     \n",
      "_________________________________________________________________\n",
      "activation_2 (Activation)    (None, 64, 64, 50)        0         \n",
      "_________________________________________________________________\n",
      "max_pooling2d_2 (MaxPooling2 (None, 32, 32, 50)        0         \n",
      "_________________________________________________________________\n",
      "flatten_1 (Flatten)          (None, 51200)             0         \n",
      "_________________________________________________________________\n",
      "dense_1 (Dense)              (None, 500)               25600500  \n",
      "_________________________________________________________________\n",
      "activation_3 (Activation)    (None, 500)               0         \n",
      "_________________________________________________________________\n",
      "dense_2 (Dense)              (None, 2)                 1002      \n",
      "_________________________________________________________________\n",
      "activation_4 (Activation)    (None, 2)                 0         \n",
      "=================================================================\n",
      "Total params: 25,628,072\n",
      "Trainable params: 25,628,072\n",
      "Non-trainable params: 0\n",
      "_________________________________________________________________\n",
      "None\n"
     ]
    }
   ],
   "source": [
    "img_size = (128, 128)\n",
    "batch_size = 20\n",
    "\n",
    "model = LeNet.build(width=128, height=128, depth=3, classes=2,\n",
    "                        weights_path='./models/weights.best.sequential_1.hdf5')\n",
    "print(model.summary())"
   ]
  },
  {
   "cell_type": "code",
   "execution_count": 12,
   "metadata": {},
   "outputs": [],
   "source": [
    "optimizer = SGD(lr=0.01)\n",
    "model.compile(loss='categorical_crossentropy',\n",
    "              optimizer=optimizer, metrics=['accuracy'])"
   ]
  },
  {
   "cell_type": "code",
   "execution_count": 13,
   "metadata": {},
   "outputs": [
    {
     "name": "stdout",
     "output_type": "stream",
     "text": [
      "(2100, 3360, 4)\n",
      "(2100, 3360, 3)\n",
      "(128, 128, 3)\n",
      "(1, 128, 128, 3)\n"
     ]
    }
   ],
   "source": [
    "test_img = mpimg.imread('./tester.png')\n",
    "print(test_img.shape)\n",
    "img = test_img[:,:,:3]\n",
    "print(img.shape)\n",
    "img = cv2.resize(img, img_size)\n",
    "print(img.shape)\n",
    "img = np.expand_dims(img, axis=0)\n",
    "print(img.shape)"
   ]
  },
  {
   "cell_type": "code",
   "execution_count": 14,
   "metadata": {},
   "outputs": [
    {
     "name": "stdout",
     "output_type": "stream",
     "text": [
      "[ 0.06528623  0.93471372]\n"
     ]
    }
   ],
   "source": [
    "prediction = model.predict(img).flatten()\n",
    "print(prediction)"
   ]
  },
  {
   "cell_type": "code",
   "execution_count": 15,
   "metadata": {},
   "outputs": [
    {
     "name": "stdout",
     "output_type": "stream",
     "text": [
      "1\n"
     ]
    }
   ],
   "source": [
    "prediction = np.argmax(prediction)\n",
    "print(prediction)"
   ]
  },
  {
   "cell_type": "code",
   "execution_count": 16,
   "metadata": {
    "collapsed": true
   },
   "outputs": [],
   "source": [
    "def prediction_method(img):\n",
    "    img = test_img.copy()[:,:,:3]\n",
    "    img = cv2.resize(img, (128, 128))\n",
    "    img = np.expand_dims(img, axis=0)\n",
    "    return np.argmax(model.predict(img).flatten()) == 0"
   ]
  },
  {
   "cell_type": "code",
   "execution_count": 17,
   "metadata": {},
   "outputs": [],
   "source": [
    "from sliding_window.sliding_window import slide_window, search_windows, heatmap_windows"
   ]
  },
  {
   "cell_type": "code",
   "execution_count": 20,
   "metadata": {},
   "outputs": [
    {
     "name": "stdout",
     "output_type": "stream",
     "text": [
      "(388, 900, 3)\n",
      "Starting sliding window (128, 128) from 0, 0 to 900, 388\n",
      "Finished with 65 windows to slide\n",
      "65\n",
      "Starting to search 65 windows\n",
      "Found window: {((0, 0), (128, 128))}\n",
      "Found window: {((0, 64), (128, 192))}\n",
      "Found window: {((0, 128), (128, 256))}\n",
      "Found window: {((0, 192), (128, 320))}\n",
      "Found window: {((0, 256), (128, 384))}\n",
      "Found window: {((0, 320), (128, 448))}\n",
      "Found window: {((0, 384), (128, 512))}\n",
      "Found window: {((0, 448), (128, 576))}\n",
      "Found window: {((0, 512), (128, 640))}\n",
      "Found window: {((0, 576), (128, 704))}\n",
      "Found window: {((0, 640), (128, 768))}\n",
      "Found window: {((0, 704), (128, 832))}\n",
      "Found window: {((0, 768), (128, 896))}\n",
      "Found window: {((64, 0), (192, 128))}\n",
      "Found window: {((64, 64), (192, 192))}\n",
      "Found window: {((64, 128), (192, 256))}\n",
      "Found window: {((64, 192), (192, 320))}\n",
      "Found window: {((64, 256), (192, 384))}\n",
      "Found window: {((64, 320), (192, 448))}\n",
      "Found window: {((64, 384), (192, 512))}\n",
      "Found window: {((64, 448), (192, 576))}\n",
      "Found window: {((64, 512), (192, 640))}\n",
      "Found window: {((64, 576), (192, 704))}\n",
      "Found window: {((64, 640), (192, 768))}\n",
      "Found window: {((64, 704), (192, 832))}\n",
      "Found window: {((64, 768), (192, 896))}\n",
      "Found window: {((128, 0), (256, 128))}\n",
      "Found window: {((128, 64), (256, 192))}\n",
      "Found window: {((128, 128), (256, 256))}\n",
      "Found window: {((128, 192), (256, 320))}\n",
      "Found window: {((128, 256), (256, 384))}\n",
      "Found window: {((128, 320), (256, 448))}\n",
      "Found window: {((128, 384), (256, 512))}\n",
      "Found window: {((128, 448), (256, 576))}\n",
      "Found window: {((128, 512), (256, 640))}\n",
      "Found window: {((128, 576), (256, 704))}\n",
      "Found window: {((128, 640), (256, 768))}\n",
      "Found window: {((128, 704), (256, 832))}\n",
      "Found window: {((128, 768), (256, 896))}\n",
      "Found window: {((192, 0), (320, 128))}\n",
      "Found window: {((192, 64), (320, 192))}\n",
      "Found window: {((192, 128), (320, 256))}\n",
      "Found window: {((192, 192), (320, 320))}\n",
      "Found window: {((192, 256), (320, 384))}\n",
      "Found window: {((192, 320), (320, 448))}\n",
      "Found window: {((192, 384), (320, 512))}\n",
      "Found window: {((192, 448), (320, 576))}\n",
      "Found window: {((192, 512), (320, 640))}\n",
      "Found window: {((192, 576), (320, 704))}\n",
      "Found window: {((192, 640), (320, 768))}\n",
      "Found window: {((192, 704), (320, 832))}\n",
      "Found window: {((192, 768), (320, 896))}\n",
      "Found window: {((256, 0), (384, 128))}\n",
      "Found window: {((256, 64), (384, 192))}\n",
      "Found window: {((256, 128), (384, 256))}\n",
      "Found window: {((256, 192), (384, 320))}\n",
      "Found window: {((256, 256), (384, 384))}\n",
      "Found window: {((256, 320), (384, 448))}\n",
      "Found window: {((256, 384), (384, 512))}\n",
      "Found window: {((256, 448), (384, 576))}\n",
      "Found window: {((256, 512), (384, 640))}\n",
      "Found window: {((256, 576), (384, 704))}\n",
      "Found window: {((256, 640), (384, 768))}\n",
      "Found window: {((256, 704), (384, 832))}\n",
      "Found window: {((256, 768), (384, 896))}\n",
      "Finished searching windows with 65 results\n",
      "[((0, 0), (383, 387))]\n"
     ]
    },
    {
     "data": {
      "image/png": "[encoded data removed]",
      "text/plain": [
       "<matplotlib.figure.Figure at 0x7f92e662ed68>"
      ]
     },
     "metadata": {},
     "output_type": "display_data"
    }
   ],
   "source": [
    "test_img = mpimg.imread('./tester2.jpg')\n",
    "print(test_img.shape)\n",
    "\n",
    "xy_window = (128, 128)\n",
    "\n",
    "windows = slide_window(test_img, xy_window=xy_window)\n",
    "print(len(windows))\n",
    "\n",
    "on_windows = search_windows(prediction_method, \n",
    "                            img_size=(128, 128), \n",
    "                            img=test_img.copy(), \n",
    "                            windows=windows, \n",
    "                            xy_window=xy_window)\n",
    "\n",
    "heat_img, heat_boxes = heatmap_windows(test_img, on_windows, 1)\n",
    "\n",
    "print(heat_boxes)\n",
    "plt.imshow(heat_img)\n",
    "plt.show()"
   ]
  },
  {
   "cell_type": "code",
   "execution_count": null,
   "metadata": {
    "collapsed": true
   },
   "outputs": [],
   "source": []
  },
  {
   "cell_type": "code",
   "execution_count": null,
   "metadata": {
    "collapsed": true
   },
   "outputs": [],
   "source": []
  }
 ],
 "metadata": {
  "kernelspec": {
   "display_name": "Python 3",
   "language": "python",
   "name": "python3"
  },
  "language_info": {
   "codemirror_mode": {
    "name": "ipython",
    "version": 3
   },
   "file_extension": ".py",
   "mimetype": "text/x-python",
   "name": "python",
   "nbconvert_exporter": "python",
   "pygments_lexer": "ipython3",
   "version": "3.6.2"
  }
 },
 "nbformat": 4,
 "nbformat_minor": 2
}
