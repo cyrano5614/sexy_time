{
 "cells": [
  {
   "cell_type": "code",
   "execution_count": 39,
   "metadata": {},
   "outputs": [],
   "source": [
    "from viva.cnn.networks.lenet import LeNet\n",
    "from viva.cnn.networks.xception_transfer import Xception_Transfer\n",
    "from viva.bottleneck.extract_bottleneck_features import extract_bottleneck_Xception, extract_features_labels\n",
    "from read_viva import load_viva, DataGen\n",
    "from keras.optimizers import SGD\n",
    "from keras.utils import np_utils\n",
    "from keras.models import Sequential\n",
    "from keras.layers import GlobalAveragePooling2D, Dense\n",
    "from keras.applications.xception import preprocess_input\n",
    "from keras.preprocessing.image import img_to_array\n",
    "from sklearn.model_selection import train_test_split\n",
    "import numpy as np\n",
    "import argparse\n",
    "import cv2\n",
    "from pipeline import pretrained_model\n",
    "from extract_bottleneck_features import extract_Xception"
   ]
  },
  {
   "cell_type": "code",
   "execution_count": 2,
   "metadata": {
    "collapsed": true
   },
   "outputs": [],
   "source": [
    "# img_size = (100, 100)\n",
    "# batch_size = 10\n",
    "# path = '/media/whatevs/Machine Learning/detectiondata/'\n",
    "# img_list, box_list = load_viva(path)\n",
    "# # Splitting into 60/20/20\n",
    "# train_imgs, test_imgs, train_boxes, test_boxes = train_test_split(\n",
    "#     img_list, box_list, test_size=0.2)\n",
    "# train_imgs, valid_imgs, train_boxes, valid_boxes = train_test_split(\n",
    "#     train_imgs, train_boxes, test_size=0.25)\n",
    "\n",
    "# # train_gen = \n",
    "# bottleneck_model = pretrained_model('Xception', img_size)\n",
    "\n",
    "# train_generator = generate_batch(train_imgs, train_boxes, img_size=img_size, bottleneck=True, model=bottleneck_model, batch_size=batch_size)\n",
    "# result = next(train_generator)\n",
    "# result[0].shape\n",
    "# print(type(train_generator))\n",
    "# bottleneck_train_convert = extract_features_labels(bottleneck_model, next(train_generator), batch_size=batch_size)\n",
    "# valid_generator = generate_batch(\n",
    "#     valid_imgs, valid_boxes, img_size=img_size, batch_size=batch_size)\n",
    "# test_generator = generate_batch(\n",
    "#     test_imgs, test_boxes, img_size=img_size, batch_size=batch_size)\n",
    "\n",
    "# model_name = 'xception'\n",
    "# bottleneck_features = extract_bottleneck_Xception(train_generator, valid_generator, test_generator,\n",
    "#                                                   img_shape=(img_size[0], img_size[1], 3), batch_size=batch_size)\n",
    "# model = Xception_Transfer.build(bottleneck_features['train']['features'],\n",
    "#                                 bottleneck_features['train']['labels'])\n",
    "# bottleneck_features['train']['features']\n",
    "# bottleneck_train_generator = bottleneck_features\n",
    "# bottleneck_valid_generator = extract_features_labels(model, valid_generator, batch_size=batch_size)\n",
    "# bottleneck_test_generator = extract_features_labels(model, test_generator, batch_size=batch_size)\n",
    "\n"
   ]
  },
  {
   "cell_type": "code",
   "execution_count": 19,
   "metadata": {},
   "outputs": [
    {
     "name": "stdout",
     "output_type": "stream",
     "text": [
      "[INFO] Preparing the data...\n",
      "[INFO] Loaded 0 training images\n",
      "[INFO] Loaded 0 validation images\n",
      "[INFO] Loaded 0 testing images\n"
     ]
    }
   ],
   "source": [
    "from sliding_window.sliding_window import slide_window, search_windows, heatmap_windows\n",
    "from read_viva import *\n",
    "\n",
    "\"\"\"\n",
    "Data Preprocessing\n",
    "\"\"\"\n",
    "print('[INFO] Preparing the data...')\n",
    "train_img_list, train_box_list, test_img_list, test_box_list = load_viva('/media/whatevs/Machine Learning/detectiondata/')\n",
    "# Splitting into train validation 75/25\n",
    "train_img_list, valid_img_list, train_box_list, valid_box_list = train_test_split(\n",
    "    train_img_list, train_box_list, test_size=0.25)\n",
    "print('[INFO] Loaded {} training images'.format(len(train_img_list)))\n",
    "print('[INFO] Loaded {} validation images'.format(len(valid_img_list)))\n",
    "print('[INFO] Loaded {} testing images'.format(len(test_img_list)))"
   ]
  },
  {
   "cell_type": "code",
   "execution_count": 20,
   "metadata": {},
   "outputs": [],
   "source": [
    "# img_size = (128, 128)\n",
    "# batch_size = 20\n",
    "\n",
    "# model = LeNet.build(width=128, height=128, depth=3, classes=2,\n",
    "#                         weights_path='./models/weights.best.sequential_8933.hdf5')\n",
    "# print(model.summary())"
   ]
  },
  {
   "cell_type": "code",
   "execution_count": 21,
   "metadata": {},
   "outputs": [],
   "source": [
    "img_size = (128, 128)\n",
    "batch_size = 20\n",
    "\n",
    "bottleneck_model = pretrained_model('Xception', img_size)\n",
    "bottleneck_model._make_predict_function()\n",
    "\n",
    "train_generator = DataGen(img_size,\n",
    "                              batch_size,\n",
    "                              negative=True,\n",
    "                              bottleneck=True,\n",
    "                              model=bottleneck_model).generate_train(train_img_list, train_box_list)\n",
    "valid_generator = DataGen(img_size,\n",
    "                              batch_size,\n",
    "                              negative=True,\n",
    "                              bottleneck=True,\n",
    "                              model=bottleneck_model).generate_train(valid_img_list, valid_box_list)\n",
    "test_generator = DataGen(img_size,\n",
    "                              batch_size,\n",
    "                              negative=True,\n",
    "                              bottleneck=True,\n",
    "                              model=bottleneck_model).generate_train(test_img_list, test_box_list)\n",
    "\n",
    "x, y, z = bottleneck_model.output.shape[1:]"
   ]
  },
  {
   "cell_type": "code",
   "execution_count": 22,
   "metadata": {},
   "outputs": [],
   "source": [
    "model = Sequential()\n",
    "model.add(GlobalAveragePooling2D(input_shape=(int(x), int(y), int(z))))\n",
    "model.add(Dense(2, activation='softmax'))\n",
    "\n",
    "model.load_weights('./models/weights.best.xception_5933.hdf5')"
   ]
  },
  {
   "cell_type": "code",
   "execution_count": 5,
   "metadata": {
    "collapsed": true
   },
   "outputs": [],
   "source": [
    "optimizer = SGD(lr=0.01)\n",
    "model.compile(loss='categorical_crossentropy',\n",
    "              optimizer=optimizer, metrics=['accuracy'])"
   ]
  },
  {
   "cell_type": "code",
   "execution_count": 42,
   "metadata": {},
   "outputs": [
    {
     "name": "stdout",
     "output_type": "stream",
     "text": [
      "(128, 128, 3)\n",
      "(1, 128, 128, 3)\n",
      "(1, 4, 4, 2048)\n"
     ]
    }
   ],
   "source": [
    "bottle_test = mpimg.imread('./tester3.jpg')\n",
    "bottle_test = cv2.resize(bottle_test, (128, 128))\n",
    "print(bottle_test.shape)\n",
    "bottle_array = img_to_array(bottle_test)\n",
    "bottle_array = np.expand_dims(bottle_array, axis=0)\n",
    "preprocess_test = preprocess_input(bottle_array)\n",
    "print(preprocess_test.shape)\n",
    "\n",
    "feature_test = extract_Xception(preprocess_test)\n",
    "print(feature_test.shape)"
   ]
  },
  {
   "cell_type": "code",
   "execution_count": 43,
   "metadata": {},
   "outputs": [
    {
     "data": {
      "text/plain": [
       "array([[ 0.49598917,  0.50401092]], dtype=float32)"
      ]
     },
     "execution_count": 43,
     "metadata": {},
     "output_type": "execute_result"
    }
   ],
   "source": [
    "model.predict(feature_test)"
   ]
  },
  {
   "cell_type": "code",
   "execution_count": 6,
   "metadata": {},
   "outputs": [
    {
     "name": "stdout",
     "output_type": "stream",
     "text": [
      "(167, 127, 3)\n",
      "(167, 127, 3)\n",
      "(128, 128, 3)\n",
      "(1, 128, 128, 3)\n",
      "[[ 0.  1.]]\n"
     ]
    }
   ],
   "source": [
    "test_img = mpimg.imread('./tester3.jpg')\n",
    "print(test_img.shape)\n",
    "img = test_img[:,:,:3]\n",
    "print(img.shape)\n",
    "img = cv2.resize(img, img_size)\n",
    "print(img.shape)\n",
    "img = np.expand_dims(img, axis=0)\n",
    "print(img.shape)\n",
    "prediction = model.predict(img)\n",
    "print(prediction)"
   ]
  },
  {
   "cell_type": "code",
   "execution_count": 7,
   "metadata": {},
   "outputs": [
    {
     "name": "stdout",
     "output_type": "stream",
     "text": [
      "[ 0.  1.]\n"
     ]
    }
   ],
   "source": [
    "prediction = model.predict(img).flatten()\n",
    "print(prediction)"
   ]
  },
  {
   "cell_type": "code",
   "execution_count": 8,
   "metadata": {},
   "outputs": [
    {
     "name": "stdout",
     "output_type": "stream",
     "text": [
      "1\n"
     ]
    }
   ],
   "source": [
    "prediction = np.argmax(prediction)\n",
    "print(prediction)"
   ]
  },
  {
   "cell_type": "code",
   "execution_count": 44,
   "metadata": {
    "collapsed": true
   },
   "outputs": [],
   "source": [
    "def prediction_method(img):\n",
    "    return np.argmax(model.predict(extract_Xception(img)).flatten()) == 1"
   ]
  },
  {
   "cell_type": "code",
   "execution_count": 45,
   "metadata": {
    "collapsed": true
   },
   "outputs": [],
   "source": [
    "from sliding_window.sliding_window import slide_window, search_windows, heatmap_windows, add_heat, apply_threshold, draw_labeled_bboxes\n",
    "from scipy.ndimage.measurements import label"
   ]
  },
  {
   "cell_type": "code",
   "execution_count": 46,
   "metadata": {
    "collapsed": true
   },
   "outputs": [],
   "source": [
    "# Define a function to draw bounding boxes\n",
    "def draw_boxes(img, bboxes, color=(0, 0, 255), thick=6):\n",
    "    # Make a copy of the image\n",
    "    imcopy = np.copy(img)\n",
    "    # Iterate through the bounding boxes\n",
    "    for bbox in bboxes:\n",
    "        # Draw a rectangle given bbox coordinates\n",
    "        cv2.rectangle(imcopy, bbox[0], bbox[1], color, thick)\n",
    "    # Return the image copy with boxes drawn\n",
    "    return imcopy"
   ]
  },
  {
   "cell_type": "code",
   "execution_count": null,
   "metadata": {},
   "outputs": [
    {
     "name": "stdout",
     "output_type": "stream",
     "text": [
      "(1080, 1920, 3)\n",
      "Starting sliding window (300, 300) from 0, 0 to 1920, 1080\n",
      "Finished with 242 windows to slide\n",
      "242\n",
      "Starting to search 242 windows\n"
     ]
    }
   ],
   "source": [
    "testing_img = mpimg.imread('./tester4.png')\n",
    "print(testing_img.shape)\n",
    "\n",
    "xy_window = (300, 300)\n",
    "\n",
    "windows = slide_window(testing_img, xy_window=xy_window)\n",
    "print(len(windows))\n",
    "\n",
    "on_windows = search_windows(prediction_method, \n",
    "                            img_size=(128, 128), \n",
    "                            img=testing_img.copy(), \n",
    "                            windows=windows, \n",
    "                            xy_window=xy_window)\n",
    "\n",
    "boxes_img = draw_boxes(testing_img, on_windows)"
   ]
  },
  {
   "cell_type": "code",
   "execution_count": null,
   "metadata": {
    "collapsed": true
   },
   "outputs": [],
   "source": [
    "# heat_img, heat_boxes = heatmap_windows(testing_img, on_windows, 2)\n",
    "\n",
    "zeros = np.zeros_like(testing_img[:, :, 0]).astype(np.float)\n",
    "heat = add_heat(zeros, on_windows)\n",
    "heat_thresh = apply_threshold(heat, 2)\n",
    "heatmap = np.clip(heat_thresh, 0, 255)\n",
    "labels = label(heatmap)\n",
    "\n",
    "heat_img, heat_boxes = draw_labeled_bboxes(testing_img.copy(), labels)\n",
    "\n",
    "plt.figure(figsize=(16,8))\n",
    "plt.subplot(1, 4, 1)\n",
    "plt.title('classified')\n",
    "plt.imshow(boxes_img)\n",
    "plt.subplot(1, 4, 2)\n",
    "plt.title('heatmap')\n",
    "plt.imshow(heat)\n",
    "plt.subplot(1, 4, 3)\n",
    "plt.title('heatmap threshold')\n",
    "plt.imshow(heat_thresh)\n",
    "plt.subplot(1, 4, 4)\n",
    "plt.title('final')\n",
    "plt.imshow(heat_img)\n",
    "plt.show()"
   ]
  },
  {
   "cell_type": "code",
   "execution_count": null,
   "metadata": {
    "collapsed": true
   },
   "outputs": [],
   "source": []
  }
 ],
 "metadata": {
  "kernelspec": {
   "display_name": "Python 3",
   "language": "python",
   "name": "python3"
  },
  "language_info": {
   "codemirror_mode": {
    "name": "ipython",
    "version": 3
   },
   "file_extension": ".py",
   "mimetype": "text/x-python",
   "name": "python",
   "nbconvert_exporter": "python",
   "pygments_lexer": "ipython3",
   "version": "3.6.2"
  }
 },
 "nbformat": 4,
 "nbformat_minor": 2
}
