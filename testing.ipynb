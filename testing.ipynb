{
 "cells": [
  {
   "cell_type": "code",
   "execution_count": 1,
   "metadata": {},
   "outputs": [],
   "source": [
    "# from read_viva import *\n",
    "# # import matplotlib.image as mpimg\n",
    "# # import matplotlib.pyplot as plt"
   ]
  },
  {
   "cell_type": "code",
   "execution_count": 2,
   "metadata": {},
   "outputs": [],
   "source": [
    "# img_list, box_list = load_viva('/home/cyrano5614/Downloads/detectiondata/train/')"
   ]
  },
  {
   "cell_type": "code",
   "execution_count": 3,
   "metadata": {},
   "outputs": [],
   "source": [
    "# generate = generate_batch(img_list, box_list, (128, 128), 10, negative=True)\n"
   ]
  },
  {
   "cell_type": "code",
   "execution_count": 4,
   "metadata": {
    "scrolled": false
   },
   "outputs": [],
   "source": [
    "# for i in range(1):\n",
    "#     batch_imgs, batch_labels = next(generate)\n",
    "#     batch_visualize(batch_imgs, batch_labels)"
   ]
  },
  {
   "cell_type": "code",
   "execution_count": 5,
   "metadata": {},
   "outputs": [
    {
     "name": "stderr",
     "output_type": "stream",
     "text": [
      "Using TensorFlow backend.\n"
     ]
    },
    {
     "data": {
      "text/plain": [
       "(10, 3, 3, 2048)"
      ]
     },
     "execution_count": 5,
     "metadata": {},
     "output_type": "execute_result"
    }
   ],
   "source": [
    "from viva.cnn.networks.lenet import LeNet\n",
    "from viva.cnn.networks.xception_transfer import Xception_Transfer\n",
    "from viva.bottleneck.extract_bottleneck_features import extract_bottleneck_Xception, extract_features_labels\n",
    "from read_viva import load_viva, generate_batch\n",
    "from keras.optimizers import SGD\n",
    "from keras.utils import np_utils\n",
    "from sklearn.model_selection import train_test_split\n",
    "import numpy as np\n",
    "import argparse\n",
    "import cv2\n",
    "from pipeline import pretrained_model\n",
    "\n",
    "img_size = (100, 100)\n",
    "batch_size = 10\n",
    "path = '/home/cyrano5614/Downloads/detectiondata/train/'\n",
    "img_list, box_list = load_viva(path)\n",
    "# Splitting into 60/20/20\n",
    "train_imgs, test_imgs, train_boxes, test_boxes = train_test_split(\n",
    "    img_list, box_list, test_size=0.2)\n",
    "train_imgs, valid_imgs, train_boxes, valid_boxes = train_test_split(\n",
    "    train_imgs, train_boxes, test_size=0.25)\n",
    "\n",
    "# train_gen = \n",
    "bottleneck_model = pretrained_model('Xception', img_size)\n",
    "\n",
    "train_generator = generate_batch(train_imgs, train_boxes, img_size=img_size, bottleneck=True, model=bottleneck_model, batch_size=batch_size)\n",
    "result = next(train_generator)\n",
    "result[0].shape\n",
    "# print(type(train_generator))\n",
    "# bottleneck_train_convert = extract_features_labels(bottleneck_model, next(train_generator), batch_size=batch_size)\n",
    "# valid_generator = generate_batch(\n",
    "#     valid_imgs, valid_boxes, img_size=img_size, batch_size=batch_size)\n",
    "# test_generator = generate_batch(\n",
    "#     test_imgs, test_boxes, img_size=img_size, batch_size=batch_size)\n",
    "\n",
    "# model_name = 'xception'\n",
    "# bottleneck_features = extract_bottleneck_Xception(train_generator, valid_generator, test_generator,\n",
    "#                                                   img_shape=(img_size[0], img_size[1], 3), batch_size=batch_size)\n",
    "# model = Xception_Transfer.build(bottleneck_features['train']['features'],\n",
    "#                                 bottleneck_features['train']['labels'])\n",
    "# bottleneck_features['train']['features']\n",
    "# bottleneck_train_generator = bottleneck_features\n",
    "# bottleneck_valid_generator = extract_features_labels(model, valid_generator, batch_size=batch_size)\n",
    "# bottleneck_test_generator = extract_features_labels(model, test_generator, batch_size=batch_size)\n",
    "\n"
   ]
  },
  {
   "cell_type": "code",
   "execution_count": 25,
   "metadata": {},
   "outputs": [
    {
     "data": {
      "text/plain": [
       "3"
      ]
     },
     "execution_count": 25,
     "metadata": {},
     "output_type": "execute_result"
    }
   ],
   "source": [
    "x, y, z = bottleneck_model.output.shape[1:]\n",
    "int(x)\n"
   ]
  },
  {
   "cell_type": "code",
   "execution_count": 27,
   "metadata": {},
   "outputs": [
    {
     "data": {
      "text/plain": [
       "2"
      ]
     },
     "execution_count": 27,
     "metadata": {},
     "output_type": "execute_result"
    }
   ],
   "source": [
    "len(next(train_generator))"
   ]
  },
  {
   "cell_type": "code",
   "execution_count": 17,
   "metadata": {},
   "outputs": [
    {
     "data": {
      "text/plain": [
       "2"
      ]
     },
     "execution_count": 17,
     "metadata": {},
     "output_type": "execute_result"
    }
   ],
   "source": [
    "len(np.unique(result[1]))"
   ]
  },
  {
   "cell_type": "code",
   "execution_count": null,
   "metadata": {},
   "outputs": [],
   "source": []
  }
 ],
 "metadata": {
  "kernelspec": {
   "display_name": "Python [default]",
   "language": "python",
   "name": "python3"
  },
  "language_info": {
   "codemirror_mode": {
    "name": "ipython",
    "version": 3
   },
   "file_extension": ".py",
   "mimetype": "text/x-python",
   "name": "python",
   "nbconvert_exporter": "python",
   "pygments_lexer": "ipython3",
   "version": "3.6.2"
  }
 },
 "nbformat": 4,
 "nbformat_minor": 2
}
